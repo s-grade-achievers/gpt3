{
 "cells": [
  {
   "cell_type": "code",
   "execution_count": 2,
   "metadata": {
    "_cell_guid": "b1076dfc-b9ad-4769-8c92-a6c4dae69d19",
    "_uuid": "8f2839f25d086af736a60e9eeb907d3b93b6e0e5",
    "trusted": true
   },
   "outputs": [],
   "source": [
    "import torch\n",
    "import torch.nn as nn\n",
    "\n",
    "class FF(nn.Module):\n",
    "    def __init__(self, embd_dim):\n",
    "        super().__init__()\n",
    "        self.linear1 = nn.Linear(embd_dim, 8 * embd_dim)\n",
    "        self.linear2 = nn.Linear(8 * embd_dim, embd_dim)\n",
    "        self.gelu = nn.GELU()\n",
    "\n",
    "    def forward(self, x):\n",
    "        return self.linear2(self.gelu(self.linear1(x)))"
   ]
  },
  {
   "cell_type": "code",
   "execution_count": 57,
   "metadata": {
    "trusted": true
   },
   "outputs": [],
   "source": [
    "class Head(nn.Module):\n",
    "    def __init__(self, n_embd, head_size, seq_length):\n",
    "        super().__init__()\n",
    "        self.head_size = head_size\n",
    "        self.key = nn.Linear(n_embd, self.head_size, bias=False)\n",
    "        self.query = nn.Linear(n_embd, self.head_size, bias=False)\n",
    "        self.values = nn.Linear(n_embd, self.head_size, bias=False)\n",
    "        self.scale_factor = self.head_size**-0.5\n",
    "        self.seq_length = seq_length\n",
    "\n",
    "    def forward(self, q, k, v):\n",
    "        k = self.key(k)\n",
    "        q = self.query(q)\n",
    "        v = self.values(v)\n",
    "\n",
    "        w = (q @ k.transpose(-2, -1)) * self.scale_factor\n",
    "\n",
    "        mask = torch.tril(torch.ones(self.seq_length, self.seq_length, device=w.device)).unsqueeze(0)\n",
    "        w = w.masked_fill(mask == 0, float('-inf'))  \n",
    "        w = nn.functional.softmax(w, dim=-1)\n",
    "        return w @ v"
   ]
  },
  {
   "cell_type": "code",
   "execution_count": 58,
   "metadata": {
    "trusted": true
   },
   "outputs": [],
   "source": [
    "class MultiHeadAttention(nn.Module):\n",
    "    def __init__(self, num_heads, embd_dim, seq_length):\n",
    "        super().__init__()\n",
    "        self.heads = nn.ModuleList(\n",
    "            [\n",
    "                Head(embd_dim, embd_dim // num_heads, seq_length)\n",
    "                for i in range(num_heads)\n",
    "            ]\n",
    "        )\n",
    "        self.out = nn.Linear(embd_dim, embd_dim)\n",
    "\n",
    "    def forward(self, q, k, v):\n",
    "        head_out = [head(q, k, v) for head in self.heads]\n",
    "        concat = torch.cat(head_out, dim=-1)\n",
    "        return self.out(concat)"
   ]
  },
  {
   "cell_type": "code",
   "execution_count": 59,
   "metadata": {
    "trusted": true
   },
   "outputs": [],
   "source": [
    "class Decode(nn.Module):\n",
    "    def __init__(self, num_heads, embd_dim, seq_length):\n",
    "        super().__init__()\n",
    "        self.attn1 = MultiHeadAttention(num_heads, embd_dim, seq_length)\n",
    "        self.attn2 = MultiHeadAttention(num_heads, embd_dim, seq_length)\n",
    "        self.norm1 = nn.LayerNorm(embd_dim)\n",
    "        self.norm2 = nn.LayerNorm(embd_dim)\n",
    "        self.norm3 = nn.LayerNorm(embd_dim)\n",
    "        self.ff = FF(embd_dim)\n",
    "        self.dropout1 = nn.Dropout(0.2)\n",
    "        self.dropout2 = nn.Dropout(0.2)\n",
    "        self.dropout3 = nn.Dropout(0.2)\n",
    "\n",
    "    def forward(self, x):\n",
    "        x_norm = self.norm1(x)\n",
    "        attn_out = self.attn1(x_norm, x_norm, x_norm)\n",
    "        x = x + self.dropout1(attn_out)\n",
    "        x_norm = self.norm2(x)  \n",
    "        attn_out = self.attn2(x_norm, x_norm, x_norm)\n",
    "        x = x + self.dropout2(attn_out)\n",
    "        x_norm = self.norm3(x)  \n",
    "        x = x + self.dropout3(self.ff(x_norm))  \n",
    "        return x\n"
   ]
  },
  {
   "cell_type": "code",
   "execution_count": 60,
   "metadata": {
    "trusted": true
   },
   "outputs": [],
   "source": [
    "class Decoder(nn.Module):\n",
    "    def __init__(\n",
    "        self,\n",
    "        vocab_size,\n",
    "        seq_length,\n",
    "        num_layers,\n",
    "        num_heads,\n",
    "        embd_dim,\n",
    "    ):\n",
    "        super().__init__()\n",
    "        self.embedding = nn.Embedding(vocab_size, embd_dim)\n",
    "        self.pos_embedding = nn.Embedding(seq_length, embd_dim)\n",
    "        self.layers = nn.ModuleList(\n",
    "            [Decode(num_heads, embd_dim, seq_length) for i in range(num_layers)]\n",
    "        )\n",
    "        self.norm = nn.LayerNorm(embd_dim)\n",
    "\n",
    "    def forward(self, x):\n",
    "        seq_length = x.size(1)\n",
    "        positions = (\n",
    "            torch.arange(0, seq_length, device=x.device).unsqueeze(0).expand_as(x)\n",
    "        )\n",
    "        x1 = self.embedding(x) + self.pos_embedding(positions)\n",
    "        for layer in self.layers:\n",
    "            x1 = layer(x1)\n",
    "        return self.norm(x1)"
   ]
  },
  {
   "cell_type": "code",
   "execution_count": null,
   "metadata": {
    "trusted": true
   },
   "outputs": [],
   "source": [
    "class GPT3(nn.Module):\n",
    "    def __init__(self, vocab_size, seq_length, num_heads, num_layers, embd_dim):\n",
    "        super().__init__()\n",
    "        self.dec = Decoder(vocab_size, seq_length, num_heads, num_layers, embd_dim)\n",
    "        self.out = nn.Linear(embd_dim, vocab_size)\n",
    "        self.seq_length = seq_length\n",
    "        self.vocab_size = vocab_size\n",
    "\n",
    "    def forward(self, x):\n",
    "        x = self.dec(x)\n",
    "        x = self.out(x)\n",
    "        return x\n",
    "\n",
    "    def generate(self, input_ids, max_length=50, temperature=0.9):\n",
    "        self.eval()\n",
    "        output = input_ids.tolist()[0]\n",
    "        with torch.no_grad():\n",
    "            for _ in range(max_length):\n",
    "                input_ids = input_ids.to(\"cuda\")\n",
    "                logits = self(input_ids)\n",
    "                logits = logits[:, -1, :] / temperature\n",
    "                probs = nn.functional.softmax(logits, dim=-1)\n",
    "                next_token = torch.multinomial(probs, num_samples=1)\n",
    "                output.append(int(next_token[0, 0]))\n",
    "                input_ids = torch.cat([input_ids[:, 1:], next_token], dim=1)\n",
    "        self.train()\n",
    "        return output"
   ]
  },
  {
   "cell_type": "code",
   "execution_count": null,
   "metadata": {},
   "outputs": [],
   "source": [
    "vocab_size = 50000 # dont touch this\n",
    "seq_length = 128 # length of the input sequence, gpt3 uses 1024, use a smaller value for gpu constraints\n",
    "num_heads = 12 # number of attention heads, gpt3 uses 96, use a smaller value such that embd dim is divisible by num_heads\n",
    "num_layers = 12 # number of transformer blocks, gpt3 uses 96, use a smaller value \n",
    "embd_dim = 768 # embedding dimension, gpt3 uses 12288, use a smaller value\n",
    "model = GPT3(vocab_size, seq_length, num_heads, num_layers, embd_dim)"
   ]
  },
  {
   "cell_type": "code",
   "execution_count": null,
   "metadata": {},
   "outputs": [],
   "source": [
    "input_ids = torch.randint(0, vocab_size, (1, seq_length))\n",
    "model(input_ids).shape\n",
    "model.generate(input_ids)"
   ]
  },
  {
   "cell_type": "code",
   "execution_count": null,
   "metadata": {},
   "outputs": [
    {
     "name": "stdout",
     "output_type": "stream",
     "text": [
      "Total number of parameters: 246,975,824\n"
     ]
    }
   ],
   "source": [
    "def count_parameters(model):\n",
    "    return sum(p.numel() for p in model.parameters() if p.requires_grad)\n",
    "\n",
    "total_params = count_parameters(model)\n",
    "print(f\"Total number of parameters: {total_params:,}\")"
   ]
  }
 ],
 "metadata": {
  "kaggle": {
   "accelerator": "none",
   "dataSources": [
    {
     "datasetId": 7032548,
     "sourceId": 11253496,
     "sourceType": "datasetVersion"
    }
   ],
   "isGpuEnabled": false,
   "isInternetEnabled": true,
   "language": "python",
   "sourceType": "notebook"
  },
  "language_info": {
   "codemirror_mode": {
    "name": "ipython",
    "version": 3
   },
   "file_extension": ".py",
   "mimetype": "text/x-python",
   "name": "python",
   "nbconvert_exporter": "python",
   "pygments_lexer": "ipython3",
   "version": "3.12.3"
  }
 },
 "nbformat": 4,
 "nbformat_minor": 4
}
